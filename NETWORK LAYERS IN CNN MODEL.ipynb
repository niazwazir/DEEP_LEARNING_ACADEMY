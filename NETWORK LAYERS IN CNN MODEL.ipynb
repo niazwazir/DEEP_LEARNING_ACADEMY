{
 "cells": [
  {
   "cell_type": "code",
   "execution_count": null,
   "id": "ee481a91",
   "metadata": {},
   "outputs": [],
   "source": [
    "import numpy as np\n",
    "import matplotlib.pyplot as plt"
   ]
  },
  {
   "cell_type": "code",
   "execution_count": null,
   "id": "10de1d4b",
   "metadata": {},
   "outputs": [],
   "source": [
    "Methods = [\"SRCNN\", \"FSRCNN\", \"VDSR\", \"LapSRN\",\"DRRN\", \"MDSR\", \"MemNet\", \"OURS\"]\n",
    "Number_of_Layers = [3, 8, 20, 24, 52, 162,  80, 35]\n",
    "PSNR =[30.48, 30.70, 31.35, 31.54, 31.68, 32.50, 31.74, 32.53]\n",
    "#CONVERT NUMBER OF LAYERS INTO NP ARRAY\n",
    "Number_of_LayersA = np.array([3, 8, 20, 24, 52, 162, 80, 40])\n",
    "fig = plt.figure()\n",
    "ax = fig.add_subplot(111)\n",
    "# Some random colours: \n",
    "colours = range(len(Methods))\n",
    "ax.scatter(Number_of_Layers, PSNR, c=colours,s=20*Number_of_LayersA)\n",
    "offset = 1\n",
    "for x, y, s, country in zip(Number_of_Layers, PSNR, Number_of_Layers, Methods):\n",
    "    ax.text(x+offset, y, country, va='center')\n",
    "ax.set_xlim(0, 200)\n",
    "ax.set_ylim(30,33)\n",
    "ax.set_title('WAZIR PROPOSED METHOD')\n",
    "ax.set_xlabel('Number of Layers (Network Depth)')\n",
    "ax.set_ylabel('PSNR (dB)')\n",
    "plt.grid(True)\n",
    "plt.show()"
   ]
  },
  {
   "cell_type": "code",
   "execution_count": null,
   "id": "cb86d4f5",
   "metadata": {},
   "outputs": [],
   "source": []
  }
 ],
 "metadata": {
  "kernelspec": {
   "display_name": "cuda_tf",
   "language": "python",
   "name": "cuda_tf"
  },
  "language_info": {
   "codemirror_mode": {
    "name": "ipython",
    "version": 3
   },
   "file_extension": ".py",
   "mimetype": "text/x-python",
   "name": "python",
   "nbconvert_exporter": "python",
   "pygments_lexer": "ipython3",
   "version": "3.9.7"
  }
 },
 "nbformat": 4,
 "nbformat_minor": 5
}
