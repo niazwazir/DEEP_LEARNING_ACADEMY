{
  "nbformat": 4,
  "nbformat_minor": 0,
  "metadata": {
    "colab": {
      "name": "PARAMETERS_CALCULATIONA.ipynb",
      "provenance": []
    },
    "kernelspec": {
      "name": "python3",
      "display_name": "Python 3"
    },
    "accelerator": "GPU"
  },
  "cells": [
    {
      "cell_type": "code",
      "metadata": {
        "id": "nPlaz_s0IrpE"
      },
      "source": [
        "from keras.models import Sequential\n",
        "from keras.layers import Dense, Activation"
      ],
      "execution_count": 1,
      "outputs": []
    },
    {
      "cell_type": "code",
      "metadata": {
        "id": "VkLN_n_wIyRv",
        "colab": {
          "base_uri": "https://localhost:8080/"
        },
        "outputId": "cb9c94c6-9c9a-485f-bd8a-62e24c9e9130"
      },
      "source": [
        "model = Sequential([\n",
        "    Dense(3, input_shape=(2,), activation ='relu'),\n",
        "    Dense(2, activation ='softmax'),\n",
        "])\n",
        "model.summary()"
      ],
      "execution_count": 2,
      "outputs": [
        {
          "output_type": "stream",
          "name": "stdout",
          "text": [
            "Model: \"sequential\"\n",
            "_________________________________________________________________\n",
            " Layer (type)                Output Shape              Param #   \n",
            "=================================================================\n",
            " dense (Dense)               (None, 3)                 9         \n",
            "                                                                 \n",
            " dense_1 (Dense)             (None, 2)                 8         \n",
            "                                                                 \n",
            "=================================================================\n",
            "Total params: 17\n",
            "Trainable params: 17\n",
            "Non-trainable params: 0\n",
            "_________________________________________________________________\n"
          ]
        }
      ]
    },
    {
      "cell_type": "code",
      "metadata": {
        "id": "4NwyBII6I0hU",
        "colab": {
          "base_uri": "https://localhost:8080/"
        },
        "outputId": "fdc57e04-9b14-4ce7-c80e-27b15c2014f7"
      },
      "source": [
        "model.get_weights()"
      ],
      "execution_count": 3,
      "outputs": [
        {
          "output_type": "execute_result",
          "data": {
            "text/plain": [
              "[array([[ 0.35626054, -0.23011065,  0.43778896],\n",
              "        [ 0.996022  , -0.7039081 , -0.11949831]], dtype=float32),\n",
              " array([0., 0., 0.], dtype=float32),\n",
              " array([[-0.7945181 , -0.4741615 ],\n",
              "        [ 0.61559427, -1.0087352 ],\n",
              "        [ 0.50657797, -0.89704317]], dtype=float32),\n",
              " array([0., 0.], dtype=float32)]"
            ]
          },
          "metadata": {},
          "execution_count": 3
        }
      ]
    },
    {
      "cell_type": "code",
      "metadata": {
        "id": "gnlk86zVI6tw"
      },
      "source": [
        ""
      ],
      "execution_count": null,
      "outputs": []
    }
  ]
}