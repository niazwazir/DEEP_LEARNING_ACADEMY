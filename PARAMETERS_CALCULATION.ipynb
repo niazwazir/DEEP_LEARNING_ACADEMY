{
  "nbformat": 4,
  "nbformat_minor": 0,
  "metadata": {
    "colab": {
      "name": "PARAMETERS_CALCULATION.ipynb",
      "provenance": []
    },
    "kernelspec": {
      "name": "python3",
      "display_name": "Python 3"
    },
    "accelerator": "GPU"
  },
  "cells": [
    {
      "cell_type": "code",
      "metadata": {
        "id": "NPHA4ZM4pr3M"
      },
      "source": [
        "from keras.models import Sequential\n",
        "from keras.layers import Conv2D\n",
        "from IPython.display import SVG\n",
        "from keras.utils.vis_utils import model_to_dot"
      ],
      "execution_count": 1,
      "outputs": []
    },
    {
      "cell_type": "code",
      "metadata": {
        "id": "Woy_rZxT5YlU",
        "colab": {
          "base_uri": "https://localhost:8080/"
        },
        "outputId": "78c93857-6441-4cdd-8a37-c2e202f308ee"
      },
      "source": [
        "model = Sequential([\n",
        "    Conv2D(64, kernel_size=(9,9), input_shape=(32,32,1), activation ='relu',padding='same'),\n",
        "    Conv2D(32, kernel_size=(7,7),activation='relu',padding='same'),\n",
        "    Conv2D(16, kernel_size=(5,5),activation='relu',padding='same'),\n",
        "])\n",
        "model.summary()"
      ],
      "execution_count": 2,
      "outputs": [
        {
          "output_type": "stream",
          "name": "stdout",
          "text": [
            "Model: \"sequential\"\n",
            "_________________________________________________________________\n",
            " Layer (type)                Output Shape              Param #   \n",
            "=================================================================\n",
            " conv2d (Conv2D)             (None, 32, 32, 64)        5248      \n",
            "                                                                 \n",
            " conv2d_1 (Conv2D)           (None, 32, 32, 32)        100384    \n",
            "                                                                 \n",
            " conv2d_2 (Conv2D)           (None, 32, 32, 16)        12816     \n",
            "                                                                 \n",
            "=================================================================\n",
            "Total params: 118,448\n",
            "Trainable params: 118,448\n",
            "Non-trainable params: 0\n",
            "_________________________________________________________________\n"
          ]
        }
      ]
    },
    {
      "cell_type": "code",
      "metadata": {
        "id": "Ss3egwy6DjfJ"
      },
      "source": [
        ""
      ],
      "execution_count": 2,
      "outputs": []
    }
  ]
}