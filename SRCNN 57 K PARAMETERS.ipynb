{
 "cells": [
  {
   "cell_type": "code",
   "execution_count": 1,
   "id": "bc654060",
   "metadata": {},
   "outputs": [],
   "source": [
    "import tensorflow as tf\n",
    "from keras.models import Sequential, Model\n",
    "from keras.layers import Input, Conv2D, Activation"
   ]
  },
  {
   "cell_type": "code",
   "execution_count": 2,
   "id": "adb3f15e",
   "metadata": {},
   "outputs": [
    {
     "name": "stdout",
     "output_type": "stream",
     "text": [
      "Model: \"model\"\n",
      "_________________________________________________________________\n",
      " Layer (type)                Output Shape              Param #   \n",
      "=================================================================\n",
      " input_1 (InputLayer)        [(None, 32, 32, 1)]       0         \n",
      "                                                                 \n",
      " CONV1 (Conv2D)              (None, 32, 32, 64)        5248      \n",
      "                                                                 \n",
      " act1 (Activation)           (None, 32, 32, 64)        0         \n",
      "                                                                 \n",
      " CONV2 (Conv2D)              (None, 32, 32, 32)        51232     \n",
      "                                                                 \n",
      " act2 (Activation)           (None, 32, 32, 32)        0         \n",
      "                                                                 \n",
      " CONV3 (Conv2D)              (None, 32, 32, 1)         801       \n",
      "                                                                 \n",
      " act3 (Activation)           (None, 32, 32, 1)         0         \n",
      "                                                                 \n",
      "=================================================================\n",
      "Total params: 57,281\n",
      "Trainable params: 57,281\n",
      "Non-trainable params: 0\n",
      "_________________________________________________________________\n"
     ]
    }
   ],
   "source": [
    "img_shape = (32,32,1)\n",
    "input_img = Input(shape=(img_shape))\n",
    "C1 = Conv2D(64,(9,9),padding='SAME',name='CONV1')(input_img)\n",
    "A1 = Activation('relu', name='act1')(C1)\n",
    "C2 = Conv2D(32,(5,5),padding='SAME',name='CONV2')(A1)\n",
    "A2 = Activation('relu', name='act2')(C2)\n",
    "C3 = Conv2D(1,(5,5),padding='SAME',name='CONV3')(A2)\n",
    "A3 = Activation('relu', name='act3')(C3)\n",
    "model = Model(input_img, A3)\n",
    "model.summary()"
   ]
  },
  {
   "cell_type": "code",
   "execution_count": 3,
   "id": "fe5d26e5",
   "metadata": {},
   "outputs": [
    {
     "data": {
      "image/png": "[encoded data removed]",
      "text/plain": [
       "<IPython.core.display.Image object>"
      ]
     },
     "execution_count": 3,
     "metadata": {},
     "output_type": "execute_result"
    }
   ],
   "source": [
    "tf.keras.utils.plot_model(\n",
    "    model, to_file='model.png', show_shapes=False, show_layer_names=True, rankdir='LR', expand_nested=False, dpi=96\n",
    ")"
   ]
  },
  {
   "cell_type": "code",
   "execution_count": null,
   "id": "5fcac40a",
   "metadata": {},
   "outputs": [],
   "source": []
  }
 ],
 "metadata": {
  "kernelspec": {
   "display_name": "cuda_tf",
   "language": "python",
   "name": "cuda_tf"
  },
  "language_info": {
   "codemirror_mode": {
    "name": "ipython",
    "version": 3
   },
   "file_extension": ".py",
   "mimetype": "text/x-python",
   "name": "python",
   "nbconvert_exporter": "python",
   "pygments_lexer": "ipython3",
   "version": "3.9.7"
  }
 },
 "nbformat": 4,
 "nbformat_minor": 5
}
